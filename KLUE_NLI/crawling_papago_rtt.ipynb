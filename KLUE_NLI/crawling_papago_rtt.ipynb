{
 "cells": [
  {
   "cell_type": "code",
   "execution_count": 2,
   "metadata": {},
   "outputs": [],
   "source": [
    "from selenium import webdriver\n",
    "from selenium.webdriver.common.by import By\n",
    "\n",
    "import time\n",
    "import random"
   ]
  },
  {
   "cell_type": "code",
   "execution_count": 7,
   "metadata": {},
   "outputs": [],
   "source": [
    "# drive_path는 chromedriver 위치로 설정해주세요\n",
    "# chromedriver는 chrome://settings/ 에서 버전을 확인해주시고, mac/linux/window os에 맞는 driver를 설치해주세요\n",
    "# driver 위치 : https://chromedriver.chromium.org/downloads\n",
    "class papago_rtt:\n",
    "    def __init__(self, driver_path=\"C:/selenium/chromedriver.exe\", src_lang='ko', tgt_lang='en'):\n",
    "\n",
    "        self.driver_path = driver_path\n",
    "        self.init_trans = f\"https://papago.naver.com/?sk={src_lang}&tk={tgt_lang}\"\n",
    "        self.back_trans = f\"https://papago.naver.com/?sk={tgt_lang}&tk={src_lang}\"\n",
    "        self.start_browser()\n",
    "    \n",
    "    def start_browser(self):\n",
    "        self.driver = webdriver.Chrome(self.driver_path)\n",
    "    \n",
    "    def random_sleep(self):\n",
    "        time.sleep(random.randint(10,30)/10)\n",
    "        \n",
    "    def __call__(self, query):\n",
    "        #번역 페이지 열기\n",
    "        self.driver.get(self.init_trans)\n",
    "        self.random_sleep()\n",
    "\n",
    "        #번역\n",
    "        self.driver.find_element(By.CSS_SELECTOR, 'textarea#txtSource').send_keys(query)\n",
    "        self.driver.find_element(By.CSS_SELECTOR, 'button#btnTranslate').click()\n",
    "        self.random_sleep()\n",
    "\n",
    "        # #번역 결과\n",
    "        # output = self.driver.find_element(By.CSS_SELECTOR, 'div#txtTarget').text\n",
    "\n",
    "        # #복원페이지 열기\n",
    "        # self.driver.get(self.back_trans)\n",
    "        # self.random_sleep()\n",
    "\n",
    "        # #복원\n",
    "        # self.driver.find_element(By.CSS_SELECTOR, 'textarea#txtSource').send_keys(output)\n",
    "        # self.driver.find_element(By.CSS_SELECTOR, 'button#btnTranslate').click()\n",
    "        # self.random_sleep()\n",
    "        self.driver.find_element(By.CLASS_NAME, 'btn_switch___x4Tcl').click()\n",
    "        self.random_sleep()\n",
    "        #번역 결과\n",
    "        output = self.driver.find_element(By.CSS_SELECTOR, 'div#txtTarget').text\n",
    "        return output"
   ]
  },
  {
   "cell_type": "code",
   "execution_count": 8,
   "metadata": {},
   "outputs": [
    {
     "data": {
      "text/html": [
       "<div>\n",
       "<style scoped>\n",
       "    .dataframe tbody tr th:only-of-type {\n",
       "        vertical-align: middle;\n",
       "    }\n",
       "\n",
       "    .dataframe tbody tr th {\n",
       "        vertical-align: top;\n",
       "    }\n",
       "\n",
       "    .dataframe thead th {\n",
       "        text-align: right;\n",
       "    }\n",
       "</style>\n",
       "<table border=\"1\" class=\"dataframe\">\n",
       "  <thead>\n",
       "    <tr style=\"text-align: right;\">\n",
       "      <th></th>\n",
       "      <th>premise</th>\n",
       "      <th>hypothesis</th>\n",
       "      <th>label</th>\n",
       "    </tr>\n",
       "    <tr>\n",
       "      <th>index</th>\n",
       "      <th></th>\n",
       "      <th></th>\n",
       "      <th></th>\n",
       "    </tr>\n",
       "  </thead>\n",
       "  <tbody>\n",
       "    <tr>\n",
       "      <th>0</th>\n",
       "      <td>씨름은 상고시대로부터 전해져 내려오는 남자들의 대표적인 놀이로서, 소년이나 장정들이...</td>\n",
       "      <td>씨름의 여자들의 놀이이다.</td>\n",
       "      <td>contradiction</td>\n",
       "    </tr>\n",
       "    <tr>\n",
       "      <th>1</th>\n",
       "      <td>삼성은 자작극을 벌인 2명에게 형사 고소 등의 법적 대응을 검토 중이라고 하였으나,...</td>\n",
       "      <td>자작극을 벌인 이는 3명이다.</td>\n",
       "      <td>contradiction</td>\n",
       "    </tr>\n",
       "    <tr>\n",
       "      <th>2</th>\n",
       "      <td>이를 위해 예측적 범죄예방 시스템을 구축하고 고도화한다.</td>\n",
       "      <td>예측적 범죄예방 시스템 구축하고 고도화하는 것은 목적이 있기 때문이다.</td>\n",
       "      <td>entailment</td>\n",
       "    </tr>\n",
       "    <tr>\n",
       "      <th>3</th>\n",
       "      <td>광주광역시가 재개발 정비사업 원주민들에 대한 종합대책을 마련하는 등 원주민 보호에 ...</td>\n",
       "      <td>원주민들은 종합대책에 만족했다.</td>\n",
       "      <td>neutral</td>\n",
       "    </tr>\n",
       "    <tr>\n",
       "      <th>4</th>\n",
       "      <td>진정 소비자와 직원들에게 사랑 받는 기업으로 오래 지속되고 싶으면, 이런 상황에서는...</td>\n",
       "      <td>이런 상황에서 책임 있는 모습을 보여주는 기업은 아주 드물다.</td>\n",
       "      <td>neutral</td>\n",
       "    </tr>\n",
       "  </tbody>\n",
       "</table>\n",
       "</div>"
      ],
      "text/plain": [
       "                                                 premise  \\\n",
       "index                                                      \n",
       "0      씨름은 상고시대로부터 전해져 내려오는 남자들의 대표적인 놀이로서, 소년이나 장정들이...   \n",
       "1      삼성은 자작극을 벌인 2명에게 형사 고소 등의 법적 대응을 검토 중이라고 하였으나,...   \n",
       "2                        이를 위해 예측적 범죄예방 시스템을 구축하고 고도화한다.   \n",
       "3      광주광역시가 재개발 정비사업 원주민들에 대한 종합대책을 마련하는 등 원주민 보호에 ...   \n",
       "4      진정 소비자와 직원들에게 사랑 받는 기업으로 오래 지속되고 싶으면, 이런 상황에서는...   \n",
       "\n",
       "                                    hypothesis          label  \n",
       "index                                                          \n",
       "0                               씨름의 여자들의 놀이이다.  contradiction  \n",
       "1                             자작극을 벌인 이는 3명이다.  contradiction  \n",
       "2      예측적 범죄예방 시스템 구축하고 고도화하는 것은 목적이 있기 때문이다.     entailment  \n",
       "3                            원주민들은 종합대책에 만족했다.        neutral  \n",
       "4           이런 상황에서 책임 있는 모습을 보여주는 기업은 아주 드물다.        neutral  "
      ]
     },
     "execution_count": 8,
     "metadata": {},
     "output_type": "execute_result"
    }
   ],
   "source": [
    "import pandas as pd\n",
    "train_data = pd.read_csv(\"./input/train_data.csv\", index_col='index')\n",
    "train_data.head()"
   ]
  },
  {
   "cell_type": "code",
   "execution_count": 14,
   "metadata": {},
   "outputs": [
    {
     "name": "stderr",
     "output_type": "stream",
     "text": [
      "<ipython-input-7-3d7fb80cfa2c>:13: DeprecationWarning: executable_path has been deprecated, please pass in a Service object\n",
      "  self.driver = webdriver.Chrome(self.driver_path)\n"
     ]
    },
    {
     "ename": "TypeError",
     "evalue": "__call__() missing 1 required positional argument: 'query'",
     "output_type": "error",
     "traceback": [
      "\u001b[1;31m---------------------------------------------------------------------------\u001b[0m",
      "\u001b[1;31mTypeError\u001b[0m                                 Traceback (most recent call last)",
      "\u001b[1;32m<ipython-input-14-393e13378f4e>\u001b[0m in \u001b[0;36m<module>\u001b[1;34m\u001b[0m\n\u001b[0;32m     10\u001b[0m     \u001b[1;31m# try :\u001b[0m\u001b[1;33m\u001b[0m\u001b[1;33m\u001b[0m\u001b[1;33m\u001b[0m\u001b[0m\n\u001b[0;32m     11\u001b[0m     \u001b[1;31m# rtt_premise = rtt(train_data.loc[i, 'premise'])\u001b[0m\u001b[1;33m\u001b[0m\u001b[1;33m\u001b[0m\u001b[1;33m\u001b[0m\u001b[0m\n\u001b[1;32m---> 12\u001b[1;33m     \u001b[0mrtt_premise\u001b[0m \u001b[1;33m=\u001b[0m \u001b[0mrtt\u001b[0m\u001b[1;33m(\u001b[0m\u001b[1;33m)\u001b[0m\u001b[1;33m\u001b[0m\u001b[1;33m\u001b[0m\u001b[0m\n\u001b[0m\u001b[0;32m     13\u001b[0m     \u001b[0mrtt_hypothesis\u001b[0m \u001b[1;33m=\u001b[0m \u001b[0mrtt\u001b[0m\u001b[1;33m(\u001b[0m\u001b[0mtrain_data\u001b[0m\u001b[1;33m.\u001b[0m\u001b[0mloc\u001b[0m\u001b[1;33m[\u001b[0m\u001b[0mi\u001b[0m\u001b[1;33m,\u001b[0m \u001b[1;34m'hypothesis'\u001b[0m\u001b[1;33m]\u001b[0m\u001b[1;33m)\u001b[0m\u001b[1;33m\u001b[0m\u001b[1;33m\u001b[0m\u001b[0m\n\u001b[0;32m     14\u001b[0m     \u001b[0mprint\u001b[0m\u001b[1;33m(\u001b[0m\u001b[0mrtt_premise\u001b[0m\u001b[1;33m)\u001b[0m\u001b[1;33m\u001b[0m\u001b[1;33m\u001b[0m\u001b[0m\n",
      "\u001b[1;31mTypeError\u001b[0m: __call__() missing 1 required positional argument: 'query'"
     ]
    }
   ],
   "source": [
    "rtt = papago_rtt()\n",
    "\n",
    "index = []\n",
    "premises = []\n",
    "hypothesis = []\n",
    "labels = []\n",
    "exception_index = []\n",
    "\n",
    "for i in range(len(train_data)):\n",
    "    # try :\n",
    "    # rtt_premise = rtt(train_data.loc[i, 'premise'])\n",
    "    rtt_premise = rtt('')\n",
    "    rtt_hypothesis = rtt(train_data.loc[i, 'hypothesis'])\n",
    "    print(rtt_premise)\n",
    "    if rtt_premise == '' or  rtt_hypothesis == '' :\n",
    "        print('here')\n",
    "    premises.append(rtt_premise)\n",
    "    hypothesis.append(rtt_hypothesis)\n",
    "    labels.append(train_data.loc[i, 'label'])\n",
    "    index.append(i + len(train_data) + 1)\n",
    "    if i % 50 == 0:\n",
    "        print(f\"steps : {i}\")\n",
    "    break\n",
    "    # except :\n",
    "    #     print(f'exception index : {i}')\n",
    "    #     exception_index.append(i)\n",
    "    \n",
    "rtt_dataframe = pd.DataFrame({'index' : index, 'premise':premises, 'hypothesis' : hypothesis, 'label' : labels})\n",
    "rtt_dataframe.to_csv('./input/train_rtt.csv', index=False)\n",
    "    "
   ]
  },
  {
   "cell_type": "code",
   "execution_count": null,
   "metadata": {},
   "outputs": [],
   "source": []
  }
 ],
 "metadata": {
  "interpreter": {
   "hash": "98b0a9b7b4eaaa670588a142fd0a9b87eaafe866f1db4228be72b4211d12040f"
  },
  "kernelspec": {
   "display_name": "Python 3.8.5 64-bit ('base': conda)",
   "name": "python3"
  },
  "language_info": {
   "codemirror_mode": {
    "name": "ipython",
    "version": 3
   },
   "file_extension": ".py",
   "mimetype": "text/x-python",
   "name": "python",
   "nbconvert_exporter": "python",
   "pygments_lexer": "ipython3",
   "version": "3.8.11"
  },
  "orig_nbformat": 4
 },
 "nbformat": 4,
 "nbformat_minor": 2
}
